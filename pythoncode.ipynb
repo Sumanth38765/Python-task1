{
 "cells": [
  {
   "cell_type": "code",
   "execution_count": 5,
   "id": "a0f6f9c8-0076-4d17-be72-136bc4a1f6be",
   "metadata": {},
   "outputs": [
    {
     "name": "stdout",
     "output_type": "stream",
     "text": [
      "Reversed string: !dlrow ,olleH\n"
     ]
    }
   ],
   "source": [
    "def reverse_string(s):\n",
    "    #Reversed is a python in built function.so it shouldnt be used as a python keyword.\n",
    "    rev = \"\"\n",
    "    for i in range(len(s) - 1, -1, -1):\n",
    "        rev += s[i]\n",
    "    return rev\n",
    "def main():\n",
    "    input_string = \"Hello, world!\"\n",
    "    rev_string = reverse_string(input_string)\n",
    "    print(f\"Reversed string: {rev_string}\")\n",
    "if __name__ == \"__main__\":\n",
    "    main()"
   ]
  },
  {
   "cell_type": "code",
   "execution_count": 9,
   "id": "ff925dc0-3c78-4484-8751-edc607624adb",
   "metadata": {},
   "outputs": [
    {
     "name": "stdout",
     "output_type": "stream",
     "text": [
      "Please enter your age:  12\n"
     ]
    },
    {
     "name": "stdout",
     "output_type": "stream",
     "text": [
      "Invalid input. You must be at least 18 years old.\n"
     ]
    }
   ],
   "source": [
    "def get_age():\n",
    "    age = int(input(\"Please enter your age: \"))#Type conversion from string to integer is done.\n",
    "    if  age >= 18:#comparision operator should be used between only same data types\n",
    "        return age\n",
    "    else:\n",
    "        return None\n",
    "def main():\n",
    "    age = get_age()\n",
    "    if age:\n",
    "        print(f\"You are {age} years old and eligible.\")\n",
    "    else:\n",
    "        print(\"Invalid input. You must be at least 18 years old.\")\n",
    "if __name__ == \"__main__\":\n",
    "    main()"
   ]
  },
  {
   "cell_type": "code",
   "execution_count": 13,
   "id": "ad8938b6-d24e-450e-aaa7-69a615888338",
   "metadata": {},
   "outputs": [
    {
     "name": "stdout",
     "output_type": "stream",
     "text": [
      "File 'sample.txt' processed successfully.\n"
     ]
    }
   ],
   "source": [
    "def read_and_write_file(filename):\n",
    "    try:\n",
    "        with open(filename, 'r') as file:\n",
    "            content = file.read()\n",
    "        with open(filename, 'w') as file:#write mode shouldnt be used in important files as the content will override.\n",
    "            file.write(content.upper())\n",
    "        print(f\"File '{filename}' processed successfully.\")\n",
    "    except Exception as e:\n",
    "        print(f\"An error occurred: {str(e)}\")\n",
    "def main():\n",
    "    filename = \"sample.txt\"\n",
    "    read_and_write_file(filename)\n",
    "if __name__ == \"__main__\":\n",
    "    main()"
   ]
  },
  {
   "cell_type": "code",
   "execution_count": null,
   "id": "a31ace63-52ba-46b5-894f-f3ec8d9cbb62",
   "metadata": {},
   "outputs": [],
   "source": []
  }
 ],
 "metadata": {
  "kernelspec": {
   "display_name": "Python 3 (ipykernel)",
   "language": "python",
   "name": "python3"
  },
  "language_info": {
   "codemirror_mode": {
    "name": "ipython",
    "version": 3
   },
   "file_extension": ".py",
   "mimetype": "text/x-python",
   "name": "python",
   "nbconvert_exporter": "python",
   "pygments_lexer": "ipython3",
   "version": "3.10.8"
  }
 },
 "nbformat": 4,
 "nbformat_minor": 5
}
